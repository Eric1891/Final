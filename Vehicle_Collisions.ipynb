{
  "nbformat": 4,
  "nbformat_minor": 0,
  "metadata": {
    "colab": {
      "name": "Vehicle_Collisions",
      "provenance": [],
      "collapsed_sections": [],
      "authorship_tag": "ABX9TyMIElWLeqexfLkzMteOoZY9",
      "include_colab_link": true
    },
    "kernelspec": {
      "name": "python3",
      "display_name": "Python 3"
    },
    "language_info": {
      "name": "python"
    }
  },
  "cells": [
    {
      "cell_type": "markdown",
      "metadata": {
        "id": "view-in-github",
        "colab_type": "text"
      },
      "source": [
        "<a href=\"https://colab.research.google.com/github/Eric1891/Final/blob/main/Vehicle_Collisions.ipynb\" target=\"_parent\"><img src=\"https://colab.research.google.com/assets/colab-badge.svg\" alt=\"Open In Colab\"/></a>"
      ]
    },
    {
      "cell_type": "code",
      "execution_count": 60,
      "metadata": {
        "colab": {
          "base_uri": "https://localhost:8080/"
        },
        "id": "VPlZ3lJvX0l7",
        "outputId": "9b8b26ae-6c65-4321-f9cd-25a8f885b887"
      },
      "outputs": [
        {
          "output_type": "stream",
          "name": "stdout",
          "text": [
            "/content\n"
          ]
        }
      ],
      "source": [
        "import pandas as pd\n",
        "import numpy as np\n",
        "import seaborn as sns\n",
        "import csv\n",
        "%cd /content/\n",
        "import matplotlib.pyplot as plt\n",
        "from google.colab import files\n",
        "import plotly.graph_objs as go\n",
        "import plotly.express as px"
      ]
    },
    {
      "cell_type": "code",
      "source": [
        "df=pd.read_csv('/content/Motor_Vehicle_Collisions_-_Crashes.csv')\n",
        "df.head()"
      ],
      "metadata": {
        "colab": {
          "base_uri": "https://localhost:8080/",
          "height": 450
        },
        "id": "svZkGVKkX5hQ",
        "outputId": "9f23161c-f165-4519-a4b8-611a59c637aa"
      },
      "execution_count": 10,
      "outputs": [
        {
          "output_type": "execute_result",
          "data": {
            "text/plain": [
              "  CRASH DATE CRASH TIME   BOROUGH  ZIP CODE   LATITUDE  LONGITUDE  \\\n",
              "0     1/1/20      13:39  BROOKLYN   11204.0        NaN        NaN   \n",
              "1     1/1/20      21:00       NaN       NaN  40.698890 -73.917530   \n",
              "2     1/1/20      21:45       NaN       NaN  40.591000 -74.163780   \n",
              "3     1/1/20      18:10       NaN       NaN  40.573230 -74.147020   \n",
              "4     1/1/20       4:20       NaN       NaN  40.762196 -73.870415   \n",
              "\n",
              "                  LOCATION                    ON STREET NAME  \\\n",
              "0                      NaN  bay ridge pkwy                     \n",
              "1    (40.69889, -73.91753)  MYRTLE AVENUE                      \n",
              "2      (40.591, -74.16378)  STEINWAY AVENUE                    \n",
              "3    (40.57323, -74.14702)  RICHMOND HILL ROAD                 \n",
              "4  (40.762196, -73.870415)  99 STREET                          \n",
              "\n",
              "  CROSS STREET NAME OFF STREET NAME  ...  CONTRIBUTING FACTOR VEHICLE 2  \\\n",
              "0         18 avenue             NaN  ...                            NaN   \n",
              "1               NaN             NaN  ...                    Unspecified   \n",
              "2               NaN             NaN  ...                            NaN   \n",
              "3               NaN             NaN  ...                            NaN   \n",
              "4               NaN             NaN  ...                Other Vehicular   \n",
              "\n",
              "   CONTRIBUTING FACTOR VEHICLE 3  CONTRIBUTING FACTOR VEHICLE 4  \\\n",
              "0                            NaN                            NaN   \n",
              "1                            NaN                            NaN   \n",
              "2                            NaN                            NaN   \n",
              "3                            NaN                            NaN   \n",
              "4                Other Vehicular                Other Vehicular   \n",
              "\n",
              "   CONTRIBUTING FACTOR VEHICLE 5  COLLISION_ID  \\\n",
              "0                            NaN       4267649   \n",
              "1                            NaN       4267764   \n",
              "2                            NaN       4271285   \n",
              "3                            NaN       4267737   \n",
              "4                            NaN       4269445   \n",
              "\n",
              "                   VEHICLE TYPE CODE 1                  VEHICLE TYPE CODE 2  \\\n",
              "0                            Box Truck                                  NaN   \n",
              "1                                Sedan                                  NaN   \n",
              "2                                Sedan                                  NaN   \n",
              "3                                Sedan                                  NaN   \n",
              "4  Station Wagon/Sport Utility Vehicle  Station Wagon/Sport Utility Vehicle   \n",
              "\n",
              "   VEHICLE TYPE CODE 3                  VEHICLE TYPE CODE 4  \\\n",
              "0                  NaN                                  NaN   \n",
              "1                  NaN                                  NaN   \n",
              "2                  NaN                                  NaN   \n",
              "3                  NaN                                  NaN   \n",
              "4                Sedan  Station Wagon/Sport Utility Vehicle   \n",
              "\n",
              "  VEHICLE TYPE CODE 5  \n",
              "0                 NaN  \n",
              "1                 NaN  \n",
              "2                 NaN  \n",
              "3                 NaN  \n",
              "4                 NaN  \n",
              "\n",
              "[5 rows x 29 columns]"
            ],
            "text/html": [
              "\n",
              "  <div id=\"df-d9bf2eb6-cf73-412c-a6df-90202860384a\">\n",
              "    <div class=\"colab-df-container\">\n",
              "      <div>\n",
              "<style scoped>\n",
              "    .dataframe tbody tr th:only-of-type {\n",
              "        vertical-align: middle;\n",
              "    }\n",
              "\n",
              "    .dataframe tbody tr th {\n",
              "        vertical-align: top;\n",
              "    }\n",
              "\n",
              "    .dataframe thead th {\n",
              "        text-align: right;\n",
              "    }\n",
              "</style>\n",
              "<table border=\"1\" class=\"dataframe\">\n",
              "  <thead>\n",
              "    <tr style=\"text-align: right;\">\n",
              "      <th></th>\n",
              "      <th>CRASH DATE</th>\n",
              "      <th>CRASH TIME</th>\n",
              "      <th>BOROUGH</th>\n",
              "      <th>ZIP CODE</th>\n",
              "      <th>LATITUDE</th>\n",
              "      <th>LONGITUDE</th>\n",
              "      <th>LOCATION</th>\n",
              "      <th>ON STREET NAME</th>\n",
              "      <th>CROSS STREET NAME</th>\n",
              "      <th>OFF STREET NAME</th>\n",
              "      <th>...</th>\n",
              "      <th>CONTRIBUTING FACTOR VEHICLE 2</th>\n",
              "      <th>CONTRIBUTING FACTOR VEHICLE 3</th>\n",
              "      <th>CONTRIBUTING FACTOR VEHICLE 4</th>\n",
              "      <th>CONTRIBUTING FACTOR VEHICLE 5</th>\n",
              "      <th>COLLISION_ID</th>\n",
              "      <th>VEHICLE TYPE CODE 1</th>\n",
              "      <th>VEHICLE TYPE CODE 2</th>\n",
              "      <th>VEHICLE TYPE CODE 3</th>\n",
              "      <th>VEHICLE TYPE CODE 4</th>\n",
              "      <th>VEHICLE TYPE CODE 5</th>\n",
              "    </tr>\n",
              "  </thead>\n",
              "  <tbody>\n",
              "    <tr>\n",
              "      <th>0</th>\n",
              "      <td>1/1/20</td>\n",
              "      <td>13:39</td>\n",
              "      <td>BROOKLYN</td>\n",
              "      <td>11204.0</td>\n",
              "      <td>NaN</td>\n",
              "      <td>NaN</td>\n",
              "      <td>NaN</td>\n",
              "      <td>bay ridge pkwy</td>\n",
              "      <td>18 avenue</td>\n",
              "      <td>NaN</td>\n",
              "      <td>...</td>\n",
              "      <td>NaN</td>\n",
              "      <td>NaN</td>\n",
              "      <td>NaN</td>\n",
              "      <td>NaN</td>\n",
              "      <td>4267649</td>\n",
              "      <td>Box Truck</td>\n",
              "      <td>NaN</td>\n",
              "      <td>NaN</td>\n",
              "      <td>NaN</td>\n",
              "      <td>NaN</td>\n",
              "    </tr>\n",
              "    <tr>\n",
              "      <th>1</th>\n",
              "      <td>1/1/20</td>\n",
              "      <td>21:00</td>\n",
              "      <td>NaN</td>\n",
              "      <td>NaN</td>\n",
              "      <td>40.698890</td>\n",
              "      <td>-73.917530</td>\n",
              "      <td>(40.69889, -73.91753)</td>\n",
              "      <td>MYRTLE AVENUE</td>\n",
              "      <td>NaN</td>\n",
              "      <td>NaN</td>\n",
              "      <td>...</td>\n",
              "      <td>Unspecified</td>\n",
              "      <td>NaN</td>\n",
              "      <td>NaN</td>\n",
              "      <td>NaN</td>\n",
              "      <td>4267764</td>\n",
              "      <td>Sedan</td>\n",
              "      <td>NaN</td>\n",
              "      <td>NaN</td>\n",
              "      <td>NaN</td>\n",
              "      <td>NaN</td>\n",
              "    </tr>\n",
              "    <tr>\n",
              "      <th>2</th>\n",
              "      <td>1/1/20</td>\n",
              "      <td>21:45</td>\n",
              "      <td>NaN</td>\n",
              "      <td>NaN</td>\n",
              "      <td>40.591000</td>\n",
              "      <td>-74.163780</td>\n",
              "      <td>(40.591, -74.16378)</td>\n",
              "      <td>STEINWAY AVENUE</td>\n",
              "      <td>NaN</td>\n",
              "      <td>NaN</td>\n",
              "      <td>...</td>\n",
              "      <td>NaN</td>\n",
              "      <td>NaN</td>\n",
              "      <td>NaN</td>\n",
              "      <td>NaN</td>\n",
              "      <td>4271285</td>\n",
              "      <td>Sedan</td>\n",
              "      <td>NaN</td>\n",
              "      <td>NaN</td>\n",
              "      <td>NaN</td>\n",
              "      <td>NaN</td>\n",
              "    </tr>\n",
              "    <tr>\n",
              "      <th>3</th>\n",
              "      <td>1/1/20</td>\n",
              "      <td>18:10</td>\n",
              "      <td>NaN</td>\n",
              "      <td>NaN</td>\n",
              "      <td>40.573230</td>\n",
              "      <td>-74.147020</td>\n",
              "      <td>(40.57323, -74.14702)</td>\n",
              "      <td>RICHMOND HILL ROAD</td>\n",
              "      <td>NaN</td>\n",
              "      <td>NaN</td>\n",
              "      <td>...</td>\n",
              "      <td>NaN</td>\n",
              "      <td>NaN</td>\n",
              "      <td>NaN</td>\n",
              "      <td>NaN</td>\n",
              "      <td>4267737</td>\n",
              "      <td>Sedan</td>\n",
              "      <td>NaN</td>\n",
              "      <td>NaN</td>\n",
              "      <td>NaN</td>\n",
              "      <td>NaN</td>\n",
              "    </tr>\n",
              "    <tr>\n",
              "      <th>4</th>\n",
              "      <td>1/1/20</td>\n",
              "      <td>4:20</td>\n",
              "      <td>NaN</td>\n",
              "      <td>NaN</td>\n",
              "      <td>40.762196</td>\n",
              "      <td>-73.870415</td>\n",
              "      <td>(40.762196, -73.870415)</td>\n",
              "      <td>99 STREET</td>\n",
              "      <td>NaN</td>\n",
              "      <td>NaN</td>\n",
              "      <td>...</td>\n",
              "      <td>Other Vehicular</td>\n",
              "      <td>Other Vehicular</td>\n",
              "      <td>Other Vehicular</td>\n",
              "      <td>NaN</td>\n",
              "      <td>4269445</td>\n",
              "      <td>Station Wagon/Sport Utility Vehicle</td>\n",
              "      <td>Station Wagon/Sport Utility Vehicle</td>\n",
              "      <td>Sedan</td>\n",
              "      <td>Station Wagon/Sport Utility Vehicle</td>\n",
              "      <td>NaN</td>\n",
              "    </tr>\n",
              "  </tbody>\n",
              "</table>\n",
              "<p>5 rows × 29 columns</p>\n",
              "</div>\n",
              "      <button class=\"colab-df-convert\" onclick=\"convertToInteractive('df-d9bf2eb6-cf73-412c-a6df-90202860384a')\"\n",
              "              title=\"Convert this dataframe to an interactive table.\"\n",
              "              style=\"display:none;\">\n",
              "        \n",
              "  <svg xmlns=\"http://www.w3.org/2000/svg\" height=\"24px\"viewBox=\"0 0 24 24\"\n",
              "       width=\"24px\">\n",
              "    <path d=\"M0 0h24v24H0V0z\" fill=\"none\"/>\n",
              "    <path d=\"M18.56 5.44l.94 2.06.94-2.06 2.06-.94-2.06-.94-.94-2.06-.94 2.06-2.06.94zm-11 1L8.5 8.5l.94-2.06 2.06-.94-2.06-.94L8.5 2.5l-.94 2.06-2.06.94zm10 10l.94 2.06.94-2.06 2.06-.94-2.06-.94-.94-2.06-.94 2.06-2.06.94z\"/><path d=\"M17.41 7.96l-1.37-1.37c-.4-.4-.92-.59-1.43-.59-.52 0-1.04.2-1.43.59L10.3 9.45l-7.72 7.72c-.78.78-.78 2.05 0 2.83L4 21.41c.39.39.9.59 1.41.59.51 0 1.02-.2 1.41-.59l7.78-7.78 2.81-2.81c.8-.78.8-2.07 0-2.86zM5.41 20L4 18.59l7.72-7.72 1.47 1.35L5.41 20z\"/>\n",
              "  </svg>\n",
              "      </button>\n",
              "      \n",
              "  <style>\n",
              "    .colab-df-container {\n",
              "      display:flex;\n",
              "      flex-wrap:wrap;\n",
              "      gap: 12px;\n",
              "    }\n",
              "\n",
              "    .colab-df-convert {\n",
              "      background-color: #E8F0FE;\n",
              "      border: none;\n",
              "      border-radius: 50%;\n",
              "      cursor: pointer;\n",
              "      display: none;\n",
              "      fill: #1967D2;\n",
              "      height: 32px;\n",
              "      padding: 0 0 0 0;\n",
              "      width: 32px;\n",
              "    }\n",
              "\n",
              "    .colab-df-convert:hover {\n",
              "      background-color: #E2EBFA;\n",
              "      box-shadow: 0px 1px 2px rgba(60, 64, 67, 0.3), 0px 1px 3px 1px rgba(60, 64, 67, 0.15);\n",
              "      fill: #174EA6;\n",
              "    }\n",
              "\n",
              "    [theme=dark] .colab-df-convert {\n",
              "      background-color: #3B4455;\n",
              "      fill: #D2E3FC;\n",
              "    }\n",
              "\n",
              "    [theme=dark] .colab-df-convert:hover {\n",
              "      background-color: #434B5C;\n",
              "      box-shadow: 0px 1px 3px 1px rgba(0, 0, 0, 0.15);\n",
              "      filter: drop-shadow(0px 1px 2px rgba(0, 0, 0, 0.3));\n",
              "      fill: #FFFFFF;\n",
              "    }\n",
              "  </style>\n",
              "\n",
              "      <script>\n",
              "        const buttonEl =\n",
              "          document.querySelector('#df-d9bf2eb6-cf73-412c-a6df-90202860384a button.colab-df-convert');\n",
              "        buttonEl.style.display =\n",
              "          google.colab.kernel.accessAllowed ? 'block' : 'none';\n",
              "\n",
              "        async function convertToInteractive(key) {\n",
              "          const element = document.querySelector('#df-d9bf2eb6-cf73-412c-a6df-90202860384a');\n",
              "          const dataTable =\n",
              "            await google.colab.kernel.invokeFunction('convertToInteractive',\n",
              "                                                     [key], {});\n",
              "          if (!dataTable) return;\n",
              "\n",
              "          const docLinkHtml = 'Like what you see? Visit the ' +\n",
              "            '<a target=\"_blank\" href=https://colab.research.google.com/notebooks/data_table.ipynb>data table notebook</a>'\n",
              "            + ' to learn more about interactive tables.';\n",
              "          element.innerHTML = '';\n",
              "          dataTable['output_type'] = 'display_data';\n",
              "          await google.colab.output.renderOutput(dataTable, element);\n",
              "          const docLink = document.createElement('div');\n",
              "          docLink.innerHTML = docLinkHtml;\n",
              "          element.appendChild(docLink);\n",
              "        }\n",
              "      </script>\n",
              "    </div>\n",
              "  </div>\n",
              "  "
            ]
          },
          "metadata": {},
          "execution_count": 10
        }
      ]
    },
    {
      "cell_type": "code",
      "source": [
        "df.shape"
      ],
      "metadata": {
        "colab": {
          "base_uri": "https://localhost:8080/"
        },
        "id": "HsrN5oFazR58",
        "outputId": "979b8059-c825-4bdd-a7de-a00fde90b938"
      },
      "execution_count": 12,
      "outputs": [
        {
          "output_type": "execute_result",
          "data": {
            "text/plain": [
              "(264934, 29)"
            ]
          },
          "metadata": {},
          "execution_count": 12
        }
      ]
    },
    {
      "cell_type": "code",
      "source": [
        "df.columns"
      ],
      "metadata": {
        "colab": {
          "base_uri": "https://localhost:8080/"
        },
        "id": "YYcx9ptdYElO",
        "outputId": "0fe6d14a-7168-4c38-a4bc-6f4e9b91abe8"
      },
      "execution_count": 13,
      "outputs": [
        {
          "output_type": "execute_result",
          "data": {
            "text/plain": [
              "Index(['CRASH DATE', 'CRASH TIME', 'BOROUGH', 'ZIP CODE', 'LATITUDE',\n",
              "       'LONGITUDE', 'LOCATION', 'ON STREET NAME', 'CROSS STREET NAME',\n",
              "       'OFF STREET NAME', 'NUMBER OF PERSONS INJURED',\n",
              "       'NUMBER OF PERSONS KILLED', 'NUMBER OF PEDESTRIANS INJURED',\n",
              "       'NUMBER OF PEDESTRIANS KILLED', 'NUMBER OF CYCLIST INJURED',\n",
              "       'NUMBER OF CYCLIST KILLED', 'NUMBER OF MOTORIST INJURED',\n",
              "       'NUMBER OF MOTORIST KILLED', 'CONTRIBUTING FACTOR VEHICLE 1',\n",
              "       'CONTRIBUTING FACTOR VEHICLE 2', 'CONTRIBUTING FACTOR VEHICLE 3',\n",
              "       'CONTRIBUTING FACTOR VEHICLE 4', 'CONTRIBUTING FACTOR VEHICLE 5',\n",
              "       'COLLISION_ID', 'VEHICLE TYPE CODE 1', 'VEHICLE TYPE CODE 2',\n",
              "       'VEHICLE TYPE CODE 3', 'VEHICLE TYPE CODE 4', 'VEHICLE TYPE CODE 5'],\n",
              "      dtype='object')"
            ]
          },
          "metadata": {},
          "execution_count": 13
        }
      ]
    },
    {
      "cell_type": "code",
      "source": [
        "df['CRASH TIME'].value_counts().head(30)   \n",
        "#0:00 whether it is time or time is unknown"
      ],
      "metadata": {
        "colab": {
          "base_uri": "https://localhost:8080/"
        },
        "id": "wvh81a1iIXCm",
        "outputId": "621a00e5-62a7-4c5b-fa2d-99e1837807d5"
      },
      "execution_count": 25,
      "outputs": [
        {
          "output_type": "execute_result",
          "data": {
            "text/plain": [
              "0:00     4365\n",
              "15:00    3098\n",
              "16:00    2863\n",
              "14:00    2842\n",
              "17:00    2762\n",
              "13:00    2661\n",
              "18:00    2661\n",
              "12:00    2579\n",
              "10:00    2363\n",
              "9:00     2321\n",
              "19:00    2305\n",
              "8:00     2305\n",
              "11:00    2200\n",
              "14:30    2086\n",
              "20:00    1976\n",
              "16:30    1928\n",
              "17:30    1875\n",
              "18:30    1803\n",
              "15:30    1776\n",
              "13:30    1768\n",
              "12:30    1735\n",
              "21:00    1722\n",
              "8:30     1719\n",
              "11:30    1636\n",
              "22:00    1599\n",
              "10:30    1575\n",
              "9:30     1560\n",
              "7:00     1453\n",
              "19:30    1408\n",
              "23:00    1347\n",
              "Name: CRASH TIME, dtype: int64"
            ]
          },
          "metadata": {},
          "execution_count": 25
        }
      ]
    },
    {
      "cell_type": "code",
      "source": [
        "df['NUMBER OF PERSONS INJURED'].sum()"
      ],
      "metadata": {
        "colab": {
          "base_uri": "https://localhost:8080/"
        },
        "id": "kcFxSNbuDHDH",
        "outputId": "32fa35ab-27e6-4d15-a66f-97e68d0e6bc8"
      },
      "execution_count": 15,
      "outputs": [
        {
          "output_type": "execute_result",
          "data": {
            "text/plain": [
              "115682.0"
            ]
          },
          "metadata": {},
          "execution_count": 15
        }
      ]
    },
    {
      "cell_type": "code",
      "source": [
        "df['NUMBER OF PERSONS KILLED'].sum()"
      ],
      "metadata": {
        "colab": {
          "base_uri": "https://localhost:8080/"
        },
        "id": "3nkUFxkhOE3N",
        "outputId": "2f5f2518-41f0-4b31-9911-f9618f50bc2e"
      },
      "execution_count": 41,
      "outputs": [
        {
          "output_type": "execute_result",
          "data": {
            "text/plain": [
              "660"
            ]
          },
          "metadata": {},
          "execution_count": 41
        }
      ]
    },
    {
      "cell_type": "code",
      "source": [
        "df['NUMBER OF PEDESTRIANS KILLED'].sum()"
      ],
      "metadata": {
        "colab": {
          "base_uri": "https://localhost:8080/"
        },
        "id": "KbGb67W7JAM4",
        "outputId": "7b49d8b7-2f77-45a8-d389-42c61d875bd4"
      },
      "execution_count": 28,
      "outputs": [
        {
          "output_type": "execute_result",
          "data": {
            "text/plain": [
              "279"
            ]
          },
          "metadata": {},
          "execution_count": 28
        }
      ]
    },
    {
      "cell_type": "code",
      "source": [
        "df['NUMBER OF PEDESTRIANS INJURED'].sum()"
      ],
      "metadata": {
        "colab": {
          "base_uri": "https://localhost:8080/"
        },
        "id": "w8A_WOSyOMAP",
        "outputId": "8eb82c01-76dd-470b-c54a-233a35723ae8"
      },
      "execution_count": 42,
      "outputs": [
        {
          "output_type": "execute_result",
          "data": {
            "text/plain": [
              "17674"
            ]
          },
          "metadata": {},
          "execution_count": 42
        }
      ]
    },
    {
      "cell_type": "code",
      "source": [
        "df['NUMBER OF CYCLIST INJURED'].sum()"
      ],
      "metadata": {
        "colab": {
          "base_uri": "https://localhost:8080/"
        },
        "id": "rWq-M_msI6z6",
        "outputId": "6fbeb56a-dff4-4ce3-9786-8cbb4faaee07"
      },
      "execution_count": 27,
      "outputs": [
        {
          "output_type": "execute_result",
          "data": {
            "text/plain": [
              "12062"
            ]
          },
          "metadata": {},
          "execution_count": 27
        }
      ]
    },
    {
      "cell_type": "code",
      "source": [
        "df['NUMBER OF CYCLIST KILLED'].sum()"
      ],
      "metadata": {
        "colab": {
          "base_uri": "https://localhost:8080/"
        },
        "id": "9Dj0-C9pIwvR",
        "outputId": "3f6e6ab1-1baf-4c29-a1fa-3f6b742a9863"
      },
      "execution_count": 26,
      "outputs": [
        {
          "output_type": "execute_result",
          "data": {
            "text/plain": [
              "53"
            ]
          },
          "metadata": {},
          "execution_count": 26
        }
      ]
    },
    {
      "cell_type": "code",
      "source": [
        "df['LOCATION'].head(20)"
      ],
      "metadata": {
        "id": "xRTmqzgRDHN6",
        "colab": {
          "base_uri": "https://localhost:8080/"
        },
        "outputId": "cc6f74dd-632d-43fe-a76b-0e6f712ded53"
      },
      "execution_count": 30,
      "outputs": [
        {
          "output_type": "execute_result",
          "data": {
            "text/plain": [
              "0                         NaN\n",
              "1       (40.69889, -73.91753)\n",
              "2         (40.591, -74.16378)\n",
              "3       (40.57323, -74.14702)\n",
              "4     (40.762196, -73.870415)\n",
              "5      (40.780754, -73.95258)\n",
              "6      (40.725353, -73.82108)\n",
              "7      (40.753826, -73.88412)\n",
              "8        (40.6743, -73.93339)\n",
              "9     (40.747097, -73.886665)\n",
              "10     (40.695457, -73.80536)\n",
              "11     (40.836212, -73.86329)\n",
              "12      (40.67672, -73.94708)\n",
              "13      (40.64953, -73.91633)\n",
              "14    (40.844883, -73.907295)\n",
              "15     (40.621838, -74.03172)\n",
              "16      (40.82324, -73.88856)\n",
              "17                        NaN\n",
              "18      (40.68175, -73.96748)\n",
              "19    (40.740044, -73.850235)\n",
              "Name: LOCATION, dtype: object"
            ]
          },
          "metadata": {},
          "execution_count": 30
        }
      ]
    },
    {
      "cell_type": "code",
      "source": [
        "df['LOCATION'].value_counts().head(50)"
      ],
      "metadata": {
        "colab": {
          "base_uri": "https://localhost:8080/"
        },
        "id": "e6ZV36V2JUpu",
        "outputId": "31ff4373-54a7-4df8-dab8-146943a3694a"
      },
      "execution_count": 43,
      "outputs": [
        {
          "output_type": "execute_result",
          "data": {
            "text/plain": [
              "(0.0, 0.0)                 2358\n",
              "(40.861862, -73.91282)      156\n",
              "(40.675735, -73.89686)      146\n",
              "(40.651863, -73.86536)      100\n",
              "(40.658577, -73.89063)      100\n",
              "(40.69168, -73.999344)       97\n",
              "(40.64254, -73.87652)        94\n",
              "(40.84519, -73.9112)         93\n",
              "(40.65965, -73.773834)       93\n",
              "(40.820305, -73.89083)       92\n",
              "(40.83801, -73.87329)        88\n",
              "(40.8047, -73.91243)         85\n",
              "(40.66496, -73.82226)        85\n",
              "(40.84506, -73.916855)       82\n",
              "(40.60567, -74.030945)       82\n",
              "(40.67816, -73.897484)       82\n",
              "(40.696033, -73.98453)       78\n",
              "(40.651974, -73.86542)       77\n",
              "(40.67619, -73.9081)         76\n",
              "(40.65616, -73.76736)        76\n",
              "(40.826275, -73.85971)       76\n",
              "(40.668648, -73.92835)       76\n",
              "(40.680016, -73.87743)       75\n",
              "(40.666233, -73.761)         74\n",
              "(40.70145, -73.989624)       74\n",
              "(40.63082, -73.88636)        73\n",
              "(40.667313, -73.73926)       73\n",
              "(40.668495, -73.925606)      73\n",
              "(40.788795, -73.93755)       69\n",
              "(40.767612, -73.950005)      69\n",
              "(40.668797, -73.93113)       68\n",
              "(40.82325, -73.88277)        67\n",
              "(40.704494, -73.81743)       66\n",
              "(40.811638, -73.9316)        65\n",
              "(40.737785, -73.93496)       65\n",
              "(40.861862, -73.91275)       65\n",
              "(40.86369, -73.91707)        65\n",
              "(40.711033, -73.7281)        64\n",
              "(40.60981, -73.92251)        64\n",
              "(40.666348, -73.76093)       63\n",
              "(40.844917, -73.926384)      63\n",
              "(40.678722, -73.952995)      63\n",
              "(40.66552, -73.74467)        62\n",
              "(40.828114, -73.93107)       62\n",
              "(40.818558, -73.92732)       60\n",
              "(40.84543, -73.91399)        60\n",
              "(40.75548, -73.74173)        60\n",
              "(40.84518, -73.91417)        59\n",
              "(40.803593, -73.919785)      59\n",
              "(40.895374, -73.86356)       59\n",
              "Name: LOCATION, dtype: int64"
            ]
          },
          "metadata": {},
          "execution_count": 43
        }
      ]
    },
    {
      "cell_type": "code",
      "source": [
        "df['ZIP CODE'].value_counts()"
      ],
      "metadata": {
        "id": "sFPKZ7YFDHRd",
        "colab": {
          "base_uri": "https://localhost:8080/"
        },
        "outputId": "6fe4a88b-2164-4e2c-9e96-26716bbb648f"
      },
      "execution_count": 21,
      "outputs": [
        {
          "output_type": "execute_result",
          "data": {
            "text/plain": [
              "11207.0    4501\n",
              "11236.0    3176\n",
              "11212.0    3104\n",
              "11208.0    3003\n",
              "11203.0    2702\n",
              "           ... \n",
              "10122.0       1\n",
              "10107.0       1\n",
              "11251.0       1\n",
              "10123.0       1\n",
              "10174.0       1\n",
              "Name: ZIP CODE, Length: 216, dtype: int64"
            ]
          },
          "metadata": {},
          "execution_count": 21
        }
      ]
    },
    {
      "cell_type": "code",
      "source": [
        "df['BOROUGH'].value_counts()"
      ],
      "metadata": {
        "colab": {
          "base_uri": "https://localhost:8080/"
        },
        "id": "3jDVq8HANeeC",
        "outputId": "3b068e69-85ee-491c-d06b-bd117d9d2c31"
      },
      "execution_count": 40,
      "outputs": [
        {
          "output_type": "execute_result",
          "data": {
            "text/plain": [
              "BROOKLYN         60013\n",
              "QUEENS           47590\n",
              "BRONX            32691\n",
              "MANHATTAN        26954\n",
              "STATEN ISLAND     6089\n",
              "Name: BOROUGH, dtype: int64"
            ]
          },
          "metadata": {},
          "execution_count": 40
        }
      ]
    },
    {
      "cell_type": "code",
      "source": [
        "df['VEHICLE TYPE CODE 1'].value_counts().head(10)"
      ],
      "metadata": {
        "colab": {
          "base_uri": "https://localhost:8080/"
        },
        "id": "wOPqDAd2Nt64",
        "outputId": "334f702a-7aad-4522-eb71-244f2a4e31a5"
      },
      "execution_count": 50,
      "outputs": [
        {
          "output_type": "execute_result",
          "data": {
            "text/plain": [
              "Sedan                                  124885\n",
              "Station Wagon/Sport Utility Vehicle     94129\n",
              "Taxi                                     7593\n",
              "Pick-up Truck                            5826\n",
              "Box Truck                                4639\n",
              "Bus                                      4053\n",
              "Bike                                     3447\n",
              "Tractor Truck Diesel                     2022\n",
              "Motorcycle                               1922\n",
              "Van                                      1589\n",
              "Name: VEHICLE TYPE CODE 1, dtype: int64"
            ]
          },
          "metadata": {},
          "execution_count": 50
        }
      ]
    },
    {
      "cell_type": "code",
      "source": [
        "df['VEHICLE TYPE CODE 2'].value_counts().head(10)"
      ],
      "metadata": {
        "colab": {
          "base_uri": "https://localhost:8080/"
        },
        "id": "2vQJsAn0PCIM",
        "outputId": "90144f90-03b6-4d0f-e723-bc07faffeae6"
      },
      "execution_count": 51,
      "outputs": [
        {
          "output_type": "execute_result",
          "data": {
            "text/plain": [
              "Sedan                                  77917\n",
              "Station Wagon/Sport Utility Vehicle    57770\n",
              "Bike                                    8546\n",
              "Box Truck                               5404\n",
              "Pick-up Truck                           4573\n",
              "Taxi                                    3756\n",
              "Bus                                     3435\n",
              "E-Bike                                  2890\n",
              "Tractor Truck Diesel                    1913\n",
              "E-Scooter                               1804\n",
              "Name: VEHICLE TYPE CODE 2, dtype: int64"
            ]
          },
          "metadata": {},
          "execution_count": 51
        }
      ]
    },
    {
      "cell_type": "code",
      "source": [
        "df['VEHICLE TYPE CODE 3'].value_counts().head(10)"
      ],
      "metadata": {
        "colab": {
          "base_uri": "https://localhost:8080/"
        },
        "id": "4l22rNk5PKzV",
        "outputId": "5f1c6e76-c38e-40b1-98f9-432077a92b38"
      },
      "execution_count": 52,
      "outputs": [
        {
          "output_type": "execute_result",
          "data": {
            "text/plain": [
              "Sedan                                  12160\n",
              "Station Wagon/Sport Utility Vehicle    10002\n",
              "Pick-up Truck                            587\n",
              "Taxi                                     369\n",
              "Box Truck                                282\n",
              "Bus                                      167\n",
              "Bike                                     116\n",
              "Tractor Truck Diesel                     111\n",
              "Van                                      101\n",
              "Motorcycle                                81\n",
              "Name: VEHICLE TYPE CODE 3, dtype: int64"
            ]
          },
          "metadata": {},
          "execution_count": 52
        }
      ]
    },
    {
      "cell_type": "code",
      "source": [
        "df['VEHICLE TYPE CODE 4'].value_counts().head(10)"
      ],
      "metadata": {
        "colab": {
          "base_uri": "https://localhost:8080/"
        },
        "id": "eQeOJFCIPVh3",
        "outputId": "f04fb3c4-6f19-432d-9f35-6e1def523d80"
      },
      "execution_count": 53,
      "outputs": [
        {
          "output_type": "execute_result",
          "data": {
            "text/plain": [
              "Sedan                                  3390\n",
              "Station Wagon/Sport Utility Vehicle    2890\n",
              "Pick-up Truck                           159\n",
              "Taxi                                     91\n",
              "Box Truck                                39\n",
              "Bus                                      27\n",
              "Motorcycle                               25\n",
              "Van                                      19\n",
              "Convertible                              16\n",
              "Bike                                     16\n",
              "Name: VEHICLE TYPE CODE 4, dtype: int64"
            ]
          },
          "metadata": {},
          "execution_count": 53
        }
      ]
    },
    {
      "cell_type": "code",
      "source": [
        "df['VEHICLE TYPE CODE 5'].value_counts().head(10)"
      ],
      "metadata": {
        "colab": {
          "base_uri": "https://localhost:8080/"
        },
        "id": "6jzhKK42PVy8",
        "outputId": "777c576e-13b5-4699-b3c3-a0540a572022"
      },
      "execution_count": 54,
      "outputs": [
        {
          "output_type": "execute_result",
          "data": {
            "text/plain": [
              "Sedan                                  1030\n",
              "Station Wagon/Sport Utility Vehicle     890\n",
              "Pick-up Truck                            42\n",
              "Taxi                                     25\n",
              "Box Truck                                15\n",
              "Van                                      12\n",
              "Motorcycle                                9\n",
              "Bus                                       7\n",
              "Tractor Truck Diesel                      7\n",
              "PK                                        5\n",
              "Name: VEHICLE TYPE CODE 5, dtype: int64"
            ]
          },
          "metadata": {},
          "execution_count": 54
        }
      ]
    },
    {
      "cell_type": "code",
      "source": [
        "df.columns"
      ],
      "metadata": {
        "colab": {
          "base_uri": "https://localhost:8080/"
        },
        "id": "Q9V3KHPTQFo9",
        "outputId": "2311df9e-bc68-4297-da74-aca2dc1e9818"
      },
      "execution_count": 55,
      "outputs": [
        {
          "output_type": "execute_result",
          "data": {
            "text/plain": [
              "Index(['CRASH DATE', 'CRASH TIME', 'BOROUGH', 'ZIP CODE', 'LATITUDE',\n",
              "       'LONGITUDE', 'LOCATION', 'ON STREET NAME', 'CROSS STREET NAME',\n",
              "       'OFF STREET NAME', 'NUMBER OF PERSONS INJURED',\n",
              "       'NUMBER OF PERSONS KILLED', 'NUMBER OF PEDESTRIANS INJURED',\n",
              "       'NUMBER OF PEDESTRIANS KILLED', 'NUMBER OF CYCLIST INJURED',\n",
              "       'NUMBER OF CYCLIST KILLED', 'NUMBER OF MOTORIST INJURED',\n",
              "       'NUMBER OF MOTORIST KILLED', 'CONTRIBUTING FACTOR VEHICLE 1',\n",
              "       'CONTRIBUTING FACTOR VEHICLE 2', 'CONTRIBUTING FACTOR VEHICLE 3',\n",
              "       'CONTRIBUTING FACTOR VEHICLE 4', 'CONTRIBUTING FACTOR VEHICLE 5',\n",
              "       'COLLISION_ID', 'VEHICLE TYPE CODE 1', 'VEHICLE TYPE CODE 2',\n",
              "       'VEHICLE TYPE CODE 3', 'VEHICLE TYPE CODE 4', 'VEHICLE TYPE CODE 5'],\n",
              "      dtype='object')"
            ]
          },
          "metadata": {},
          "execution_count": 55
        }
      ]
    },
    {
      "cell_type": "code",
      "source": [
        "plt.figure(figsize=(20,10))\n",
        "#sort data\n",
        "total = df.sort_values(\"CRASH TIME\", ascending=False)\n",
        "#choosing the color\n",
        "sns.set_color_codes(\"muted\")\n",
        "#plot data\n",
        "ax = sns.barplot(x='CRASH TIME', y='LOCATION', data=total, label=\"CRASH TIME\", color=\"b\")\n",
        "plt.xticks(rotation=90)\n",
        "plt.show()\n"
      ],
      "metadata": {
        "id": "nRHRUdrGDHYA",
        "colab": {
          "base_uri": "https://localhost:8080/",
          "height": 392
        },
        "outputId": "ac01ae95-0940-497d-c153-25eac4173831"
      },
      "execution_count": 62,
      "outputs": [
        {
          "output_type": "error",
          "ename": "TypeError",
          "evalue": "ignored",
          "traceback": [
            "\u001b[0;31m---------------------------------------------------------------------------\u001b[0m",
            "\u001b[0;31mTypeError\u001b[0m                                 Traceback (most recent call last)",
            "\u001b[0;32m<ipython-input-62-0a1f03ec899c>\u001b[0m in \u001b[0;36m<module>\u001b[0;34m()\u001b[0m\n\u001b[1;32m      5\u001b[0m \u001b[0msns\u001b[0m\u001b[0;34m.\u001b[0m\u001b[0mset_color_codes\u001b[0m\u001b[0;34m(\u001b[0m\u001b[0;34m\"muted\"\u001b[0m\u001b[0;34m)\u001b[0m\u001b[0;34m\u001b[0m\u001b[0;34m\u001b[0m\u001b[0m\n\u001b[1;32m      6\u001b[0m \u001b[0;31m#plot data\u001b[0m\u001b[0;34m\u001b[0m\u001b[0;34m\u001b[0m\u001b[0;34m\u001b[0m\u001b[0m\n\u001b[0;32m----> 7\u001b[0;31m \u001b[0max\u001b[0m \u001b[0;34m=\u001b[0m \u001b[0msns\u001b[0m\u001b[0;34m.\u001b[0m\u001b[0mbarplot\u001b[0m\u001b[0;34m(\u001b[0m\u001b[0mx\u001b[0m\u001b[0;34m=\u001b[0m\u001b[0;34m'CRASH TIME'\u001b[0m\u001b[0;34m,\u001b[0m \u001b[0my\u001b[0m\u001b[0;34m=\u001b[0m\u001b[0;34m'LOCATION'\u001b[0m\u001b[0;34m,\u001b[0m \u001b[0mdata\u001b[0m\u001b[0;34m=\u001b[0m\u001b[0mtotal\u001b[0m\u001b[0;34m,\u001b[0m \u001b[0mlabel\u001b[0m\u001b[0;34m=\u001b[0m\u001b[0;34m\"CRASH TIME\"\u001b[0m\u001b[0;34m,\u001b[0m \u001b[0mcolor\u001b[0m\u001b[0;34m=\u001b[0m\u001b[0;34m\"b\"\u001b[0m\u001b[0;34m)\u001b[0m\u001b[0;34m\u001b[0m\u001b[0;34m\u001b[0m\u001b[0m\n\u001b[0m\u001b[1;32m      8\u001b[0m \u001b[0mplt\u001b[0m\u001b[0;34m.\u001b[0m\u001b[0mxticks\u001b[0m\u001b[0;34m(\u001b[0m\u001b[0mrotation\u001b[0m\u001b[0;34m=\u001b[0m\u001b[0;36m90\u001b[0m\u001b[0;34m)\u001b[0m\u001b[0;34m\u001b[0m\u001b[0;34m\u001b[0m\u001b[0m\n\u001b[1;32m      9\u001b[0m \u001b[0mplt\u001b[0m\u001b[0;34m.\u001b[0m\u001b[0mshow\u001b[0m\u001b[0;34m(\u001b[0m\u001b[0;34m)\u001b[0m\u001b[0;34m\u001b[0m\u001b[0;34m\u001b[0m\u001b[0m\n",
            "\u001b[0;32m/usr/local/lib/python3.7/dist-packages/seaborn/_decorators.py\u001b[0m in \u001b[0;36minner_f\u001b[0;34m(*args, **kwargs)\u001b[0m\n\u001b[1;32m     44\u001b[0m             )\n\u001b[1;32m     45\u001b[0m         \u001b[0mkwargs\u001b[0m\u001b[0;34m.\u001b[0m\u001b[0mupdate\u001b[0m\u001b[0;34m(\u001b[0m\u001b[0;34m{\u001b[0m\u001b[0mk\u001b[0m\u001b[0;34m:\u001b[0m \u001b[0marg\u001b[0m \u001b[0;32mfor\u001b[0m \u001b[0mk\u001b[0m\u001b[0;34m,\u001b[0m \u001b[0marg\u001b[0m \u001b[0;32min\u001b[0m \u001b[0mzip\u001b[0m\u001b[0;34m(\u001b[0m\u001b[0msig\u001b[0m\u001b[0;34m.\u001b[0m\u001b[0mparameters\u001b[0m\u001b[0;34m,\u001b[0m \u001b[0margs\u001b[0m\u001b[0;34m)\u001b[0m\u001b[0;34m}\u001b[0m\u001b[0;34m)\u001b[0m\u001b[0;34m\u001b[0m\u001b[0;34m\u001b[0m\u001b[0m\n\u001b[0;32m---> 46\u001b[0;31m         \u001b[0;32mreturn\u001b[0m \u001b[0mf\u001b[0m\u001b[0;34m(\u001b[0m\u001b[0;34m**\u001b[0m\u001b[0mkwargs\u001b[0m\u001b[0;34m)\u001b[0m\u001b[0;34m\u001b[0m\u001b[0;34m\u001b[0m\u001b[0m\n\u001b[0m\u001b[1;32m     47\u001b[0m     \u001b[0;32mreturn\u001b[0m \u001b[0minner_f\u001b[0m\u001b[0;34m\u001b[0m\u001b[0;34m\u001b[0m\u001b[0m\n\u001b[1;32m     48\u001b[0m \u001b[0;34m\u001b[0m\u001b[0m\n",
            "\u001b[0;32m/usr/local/lib/python3.7/dist-packages/seaborn/categorical.py\u001b[0m in \u001b[0;36mbarplot\u001b[0;34m(x, y, hue, data, order, hue_order, estimator, ci, n_boot, units, seed, orient, color, palette, saturation, errcolor, errwidth, capsize, dodge, ax, **kwargs)\u001b[0m\n\u001b[1;32m   3183\u001b[0m                           \u001b[0mestimator\u001b[0m\u001b[0;34m,\u001b[0m \u001b[0mci\u001b[0m\u001b[0;34m,\u001b[0m \u001b[0mn_boot\u001b[0m\u001b[0;34m,\u001b[0m \u001b[0munits\u001b[0m\u001b[0;34m,\u001b[0m \u001b[0mseed\u001b[0m\u001b[0;34m,\u001b[0m\u001b[0;34m\u001b[0m\u001b[0;34m\u001b[0m\u001b[0m\n\u001b[1;32m   3184\u001b[0m                           \u001b[0morient\u001b[0m\u001b[0;34m,\u001b[0m \u001b[0mcolor\u001b[0m\u001b[0;34m,\u001b[0m \u001b[0mpalette\u001b[0m\u001b[0;34m,\u001b[0m \u001b[0msaturation\u001b[0m\u001b[0;34m,\u001b[0m\u001b[0;34m\u001b[0m\u001b[0;34m\u001b[0m\u001b[0m\n\u001b[0;32m-> 3185\u001b[0;31m                           errcolor, errwidth, capsize, dodge)\n\u001b[0m\u001b[1;32m   3186\u001b[0m \u001b[0;34m\u001b[0m\u001b[0m\n\u001b[1;32m   3187\u001b[0m     \u001b[0;32mif\u001b[0m \u001b[0max\u001b[0m \u001b[0;32mis\u001b[0m \u001b[0;32mNone\u001b[0m\u001b[0;34m:\u001b[0m\u001b[0;34m\u001b[0m\u001b[0;34m\u001b[0m\u001b[0m\n",
            "\u001b[0;32m/usr/local/lib/python3.7/dist-packages/seaborn/categorical.py\u001b[0m in \u001b[0;36m__init__\u001b[0;34m(self, x, y, hue, data, order, hue_order, estimator, ci, n_boot, units, seed, orient, color, palette, saturation, errcolor, errwidth, capsize, dodge)\u001b[0m\n\u001b[1;32m   1583\u001b[0m         \u001b[0;34m\"\"\"Initialize the plotter.\"\"\"\u001b[0m\u001b[0;34m\u001b[0m\u001b[0;34m\u001b[0m\u001b[0m\n\u001b[1;32m   1584\u001b[0m         self.establish_variables(x, y, hue, data, orient,\n\u001b[0;32m-> 1585\u001b[0;31m                                  order, hue_order, units)\n\u001b[0m\u001b[1;32m   1586\u001b[0m         \u001b[0mself\u001b[0m\u001b[0;34m.\u001b[0m\u001b[0mestablish_colors\u001b[0m\u001b[0;34m(\u001b[0m\u001b[0mcolor\u001b[0m\u001b[0;34m,\u001b[0m \u001b[0mpalette\u001b[0m\u001b[0;34m,\u001b[0m \u001b[0msaturation\u001b[0m\u001b[0;34m)\u001b[0m\u001b[0;34m\u001b[0m\u001b[0;34m\u001b[0m\u001b[0m\n\u001b[1;32m   1587\u001b[0m         \u001b[0mself\u001b[0m\u001b[0;34m.\u001b[0m\u001b[0mestimate_statistic\u001b[0m\u001b[0;34m(\u001b[0m\u001b[0mestimator\u001b[0m\u001b[0;34m,\u001b[0m \u001b[0mci\u001b[0m\u001b[0;34m,\u001b[0m \u001b[0mn_boot\u001b[0m\u001b[0;34m,\u001b[0m \u001b[0mseed\u001b[0m\u001b[0;34m)\u001b[0m\u001b[0;34m\u001b[0m\u001b[0;34m\u001b[0m\u001b[0m\n",
            "\u001b[0;32m/usr/local/lib/python3.7/dist-packages/seaborn/categorical.py\u001b[0m in \u001b[0;36mestablish_variables\u001b[0;34m(self, x, y, hue, data, orient, order, hue_order, units)\u001b[0m\n\u001b[1;32m    155\u001b[0m             \u001b[0;31m# Figure out the plotting orientation\u001b[0m\u001b[0;34m\u001b[0m\u001b[0;34m\u001b[0m\u001b[0;34m\u001b[0m\u001b[0m\n\u001b[1;32m    156\u001b[0m             orient = infer_orient(\n\u001b[0;32m--> 157\u001b[0;31m                 \u001b[0mx\u001b[0m\u001b[0;34m,\u001b[0m \u001b[0my\u001b[0m\u001b[0;34m,\u001b[0m \u001b[0morient\u001b[0m\u001b[0;34m,\u001b[0m \u001b[0mrequire_numeric\u001b[0m\u001b[0;34m=\u001b[0m\u001b[0mself\u001b[0m\u001b[0;34m.\u001b[0m\u001b[0mrequire_numeric\u001b[0m\u001b[0;34m\u001b[0m\u001b[0;34m\u001b[0m\u001b[0m\n\u001b[0m\u001b[1;32m    158\u001b[0m             )\n\u001b[1;32m    159\u001b[0m \u001b[0;34m\u001b[0m\u001b[0m\n",
            "\u001b[0;32m/usr/local/lib/python3.7/dist-packages/seaborn/_core.py\u001b[0m in \u001b[0;36minfer_orient\u001b[0;34m(x, y, orient, require_numeric)\u001b[0m\n\u001b[1;32m   1350\u001b[0m     \u001b[0;32melif\u001b[0m \u001b[0mrequire_numeric\u001b[0m \u001b[0;32mand\u001b[0m \u001b[0;34m\"numeric\"\u001b[0m \u001b[0;32mnot\u001b[0m \u001b[0;32min\u001b[0m \u001b[0;34m(\u001b[0m\u001b[0mx_type\u001b[0m\u001b[0;34m,\u001b[0m \u001b[0my_type\u001b[0m\u001b[0;34m)\u001b[0m\u001b[0;34m:\u001b[0m\u001b[0;34m\u001b[0m\u001b[0;34m\u001b[0m\u001b[0m\n\u001b[1;32m   1351\u001b[0m         \u001b[0merr\u001b[0m \u001b[0;34m=\u001b[0m \u001b[0;34m\"Neither the `x` nor `y` variable appears to be numeric.\"\u001b[0m\u001b[0;34m\u001b[0m\u001b[0;34m\u001b[0m\u001b[0m\n\u001b[0;32m-> 1352\u001b[0;31m         \u001b[0;32mraise\u001b[0m \u001b[0mTypeError\u001b[0m\u001b[0;34m(\u001b[0m\u001b[0merr\u001b[0m\u001b[0;34m)\u001b[0m\u001b[0;34m\u001b[0m\u001b[0;34m\u001b[0m\u001b[0m\n\u001b[0m\u001b[1;32m   1353\u001b[0m \u001b[0;34m\u001b[0m\u001b[0m\n\u001b[1;32m   1354\u001b[0m     \u001b[0;32melse\u001b[0m\u001b[0;34m:\u001b[0m\u001b[0;34m\u001b[0m\u001b[0;34m\u001b[0m\u001b[0m\n",
            "\u001b[0;31mTypeError\u001b[0m: Neither the `x` nor `y` variable appears to be numeric."
          ]
        },
        {
          "output_type": "display_data",
          "data": {
            "text/plain": [
              "<Figure size 1440x720 with 0 Axes>"
            ]
          },
          "metadata": {}
        }
      ]
    },
    {
      "cell_type": "code",
      "source": [
        "fig = go.Figure()\n",
        "fig =px.area(df, x='CRASH TIME', y='LOCATION', facet_col='LOCATION', facet_col_wrap=2)\n",
        "fig.show()"
      ],
      "metadata": {
        "id": "U7g4Qi_FSucE"
      },
      "execution_count": null,
      "outputs": []
    },
    {
      "cell_type": "code",
      "source": [
        "#changing the default size\n",
        "plt.figure(figsize=(20,7))\n",
        "#looping through states\n",
        "for state in states:\n",
        "  #assing the state if it's == query states data and  date if it's >=2021-11-01\n",
        "  df_st = df[(df['state']==state) & (df['date']>='2021-11-01')]\n",
        "  #display the data with the date and de cases\n",
        "  plt.plot(df_st['date'],\n",
        "           df_st['cases'],\n",
        "           linewidth=2\n",
        "           )\n",
        "  #rotate the dates to fit\n",
        "  plt.xticks(rotation=90)\n",
        "#discribe the states with a color\n",
        "plt.legend(states)\n",
        "plt.show()\n"
      ],
      "metadata": {
        "id": "6WnFeDsYNAr6"
      },
      "execution_count": null,
      "outputs": []
    }
  ]
}